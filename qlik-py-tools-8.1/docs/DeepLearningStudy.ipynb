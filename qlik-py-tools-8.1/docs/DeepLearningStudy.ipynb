{
 "cells": [
  {
   "cell_type": "code",
   "execution_count": 1,
   "id": "51d5f9d3",
   "metadata": {},
   "outputs": [],
   "source": [
    "from keras.layers import Flatten\n",
    "from keras.layers import ConvLSTM2D\n",
    "from keras.layers import concatenate"
   ]
  },
  {
   "cell_type": "code",
   "execution_count": 5,
   "id": "edcb7965",
   "metadata": {},
   "outputs": [],
   "source": [
    "from numpy import array\n",
    "from numpy import hstack "
   ]
  },
  {
   "cell_type": "code",
   "execution_count": 6,
   "id": "79a6f586",
   "metadata": {},
   "outputs": [],
   "source": [
    "from keras.models import Model\n",
    "from keras.layers import Input\n",
    "from keras.layers import Dense \n",
    "from keras.layers import Reshape"
   ]
  },
  {
   "cell_type": "code",
   "execution_count": 9,
   "id": "26dafcc5",
   "metadata": {},
   "outputs": [],
   "source": [
    "import numpy as np\n",
    "import pandas as pd \n",
    "import re \n",
    "import matplotlib.pyplot as plt \n",
    "import os\n",
    "import gc\n",
    "import joblib"
   ]
  },
  {
   "cell_type": "code",
   "execution_count": 10,
   "id": "a4a05681",
   "metadata": {},
   "outputs": [],
   "source": [
    "from sklearn.model_selection import RandomizedSearchCV "
   ]
  },
  {
   "cell_type": "code",
   "execution_count": 14,
   "id": "37fee839",
   "metadata": {},
   "outputs": [],
   "source": [
    "from keras.utils import to_categorical\n",
    "from sklearn.pipeline import Pipeline\n",
    "from sklearn.metrics import make_scorer\n",
    "from sklearn.preprocessing import StandardScaler\n",
    "import time \n",
    "from sklearn.metrics import fbeta_score\n",
    "from sklearn.metrics import r2_score \n",
    "from keras.models import Sequential\n",
    "from keras.layers import LSTM\n",
    "from keras.layers import RepeatVector\n",
    "from keras.layers import TimeDistributed"
   ]
  },
  {
   "cell_type": "code",
   "execution_count": 16,
   "id": "540ac47d",
   "metadata": {},
   "outputs": [],
   "source": [
    "from keras.wrappers.scikit_learn import KerasClassifier\n",
    "from keras.wrappers.scikit_learn import KerasRegressor"
   ]
  },
  {
   "cell_type": "code",
   "execution_count": 17,
   "id": "92ebcaab",
   "metadata": {},
   "outputs": [],
   "source": [
    "from keras.layers.convolutional import Conv1D, MaxPooling1D\n",
    "from keras.optimizers import Adam \n",
    "from keras.constraints import maxnorm \n",
    "from keras.layers import Dropout "
   ]
  },
  {
   "cell_type": "code",
   "execution_count": 19,
   "id": "5c5923a3",
   "metadata": {},
   "outputs": [],
   "source": [
    "from sklearn.linear_model import LogisticRegression\n",
    "from sklearn.svm import SVR\n",
    "from sklearn.tree import DecisionTreeRegressor\n",
    "from sklearn.linear_model import Ridge\n",
    "from sklearn.preprocessing import PolynomialFeatures\n",
    "from sklearn.ensemble import RandomForestRegressor\n",
    "from sklearn.multioutput import MultiOutputRegressor"
   ]
  },
  {
   "cell_type": "code",
   "execution_count": 20,
   "id": "bc8bbe6c",
   "metadata": {},
   "outputs": [],
   "source": [
    "import pickle\n",
    "import tensorflow as tf"
   ]
  },
  {
   "cell_type": "code",
   "execution_count": 24,
   "id": "4870a130",
   "metadata": {},
   "outputs": [
    {
     "data": {
      "text/plain": [
       "array([[ 0,  1,  2,  3,  4],\n",
       "       [ 5,  6,  7,  8,  9],\n",
       "       [10, 11, 12, 13, 14]])"
      ]
     },
     "execution_count": 24,
     "metadata": {},
     "output_type": "execute_result"
    }
   ],
   "source": [
    "a = np.arange(15)\n",
    "a.reshape(3,5)"
   ]
  },
  {
   "cell_type": "code",
   "execution_count": 29,
   "id": "ea54425f",
   "metadata": {},
   "outputs": [],
   "source": [
    "x = np.mean(a.reshape(3,5), axis=0).reshape((1,5))"
   ]
  },
  {
   "cell_type": "code",
   "execution_count": 34,
   "id": "7c87fade",
   "metadata": {},
   "outputs": [],
   "source": [
    "y = np.random.randn(5).reshape((1,5))"
   ]
  },
  {
   "cell_type": "code",
   "execution_count": 35,
   "id": "d6c6ca60",
   "metadata": {},
   "outputs": [
    {
     "data": {
      "text/plain": [
       "array([[ 5.        ,  6.        ,  7.        ,  8.        ,  9.        ],\n",
       "       [-0.23841298,  0.04732875, -0.48385626, -2.01536364,  0.39870941]])"
      ]
     },
     "execution_count": 35,
     "metadata": {},
     "output_type": "execute_result"
    }
   ],
   "source": [
    "np.append(x,y, axis=0)"
   ]
  },
  {
   "cell_type": "code",
   "execution_count": 28,
   "id": "9ce3af96",
   "metadata": {},
   "outputs": [
    {
     "data": {
      "text/plain": [
       "array([5., 6., 7., 8., 9.])"
      ]
     },
     "execution_count": 28,
     "metadata": {},
     "output_type": "execute_result"
    }
   ],
   "source": [
    "np.mean(a.reshape(3,5), axis=0)"
   ]
  },
  {
   "cell_type": "code",
   "execution_count": 37,
   "id": "a93d7dd3",
   "metadata": {},
   "outputs": [
    {
     "name": "stderr",
     "output_type": "stream",
     "text": [
      "C:\\Users\\FangG\\AppData\\Roaming\\Python\\Python38\\site-packages\\keras\\optimizers\\optimizer_v2\\adam.py:114: UserWarning: The `lr` argument is deprecated, use `learning_rate` instead.\n",
      "  super().__init__(name, **kwargs)\n"
     ]
    },
    {
     "name": "stdout",
     "output_type": "stream",
     "text": [
      "model: <keras.engine.sequential.Sequential object at 0x0000024C3D3978E0>\n"
     ]
    }
   ],
   "source": [
    "input_dim=5\n",
    "n_steps_in=7\n",
    "n_features=13\n",
    "n_steps_out=4\n",
    "neurons=1\n",
    "learn_rate=0.01\n",
    "dropout_rate=0.0\n",
    "weight_constraint=0\n",
    "activation='sigmoid'\n",
    "totalsets = 2\n",
    "model = tf.keras.models.Sequential()\n",
    "model.add(tf.keras.layers.Reshape(target_shape=(\n",
    "    n_steps_in*totalsets, n_features), input_shape=(n_steps_in*n_features*totalsets,)))\n",
    "model.add(tf.keras.layers.LSTM(neurons, activation=activation, return_sequences=True,\n",
    "                               kernel_constraint=tf.keras.constraints.MaxNorm(weight_constraint)))\n",
    "\n",
    "model.add(tf.keras.layers.Dropout(dropout_rate))\n",
    "# , return_sequences=True))\n",
    "model.add(tf.keras.layers.LSTM(neurons, activation=activation))\n",
    "# model.add(Dense(neurons, activation=activation))  # Adding new layer\n",
    "model.add(tf.keras.layers.Dense(n_steps_out))\n",
    "opt = tf.keras.optimizers.Adam(lr=learn_rate)\n",
    "model.compile(loss='mse', optimizer=opt)\n",
    "# model.save(save_weights_only=True, best_model_only=True)\n",
    "print('model: ' + str(model))"
   ]
  },
  {
   "cell_type": "code",
   "execution_count": 39,
   "id": "5d12070d",
   "metadata": {},
   "outputs": [
    {
     "name": "stdout",
     "output_type": "stream",
     "text": [
      "Model: \"sequential_2\"\n",
      "_________________________________________________________________\n",
      " Layer (type)                Output Shape              Param #   \n",
      "=================================================================\n",
      " reshape (Reshape)           (None, 14, 13)            0         \n",
      "                                                                 \n",
      " lstm (LSTM)                 (None, 14, 1)             60        \n",
      "                                                                 \n",
      " dropout (Dropout)           (None, 14, 1)             0         \n",
      "                                                                 \n",
      " lstm_1 (LSTM)               (None, 1)                 12        \n",
      "                                                                 \n",
      " dense (Dense)               (None, 4)                 8         \n",
      "                                                                 \n",
      "=================================================================\n",
      "Total params: 80\n",
      "Trainable params: 80\n",
      "Non-trainable params: 0\n",
      "_________________________________________________________________\n"
     ]
    }
   ],
   "source": [
    "model.summary()"
   ]
  },
  {
   "cell_type": "code",
   "execution_count": 41,
   "id": "969e45df",
   "metadata": {},
   "outputs": [
    {
     "data": {
      "text/plain": [
       "[<keras.layers.reshaping.reshape.Reshape at 0x24c3d397a90>,\n",
       " <keras.layers.rnn.lstm.LSTM at 0x24c3dd54fd0>,\n",
       " <keras.layers.regularization.dropout.Dropout at 0x24c3dd543d0>,\n",
       " <keras.layers.rnn.lstm.LSTM at 0x24c3dd54be0>,\n",
       " <keras.layers.core.dense.Dense at 0x24c3db6ba30>]"
      ]
     },
     "execution_count": 41,
     "metadata": {},
     "output_type": "execute_result"
    }
   ],
   "source": [
    "model.layers"
   ]
  },
  {
   "cell_type": "code",
   "execution_count": 43,
   "id": "47a331ac",
   "metadata": {},
   "outputs": [],
   "source": [
    "from keras.optimizers import Adam"
   ]
  },
  {
   "cell_type": "code",
   "execution_count": 44,
   "id": "017df7eb",
   "metadata": {},
   "outputs": [
    {
     "name": "stderr",
     "output_type": "stream",
     "text": [
      "C:\\Users\\FangG\\AppData\\Roaming\\Python\\Python38\\site-packages\\keras\\optimizers\\optimizer_v2\\adam.py:114: UserWarning: The `lr` argument is deprecated, use `learning_rate` instead.\n",
      "  super().__init__(name, **kwargs)\n"
     ]
    }
   ],
   "source": [
    "model = Sequential()\n",
    "model.add(Reshape(target_shape=(\n",
    "    n_steps_in*totalsets, n_features), input_shape=(n_steps_in*n_features*totalsets,)))\n",
    "model.add(LSTM(neurons, activation=activation,\n",
    "               input_shape=(n_steps_in*totalsets, n_features)))\n",
    "model.add(RepeatVector(1))\n",
    "model.add(LSTM(neurons, activation=activation, return_sequences=True))\n",
    "model.add(TimeDistributed(Dense(n_steps_out)))\n",
    "opt = Adam(lr=learn_rate)\n",
    "model.compile(loss='mse', optimizer=opt)"
   ]
  },
  {
   "cell_type": "code",
   "execution_count": 55,
   "id": "33c1f32e",
   "metadata": {},
   "outputs": [
    {
     "name": "stdout",
     "output_type": "stream",
     "text": [
      "reshape_2 (None, 182) (None, 14, 13)\n",
      "lstm_4 (None, 14, 13) (None, 1)\n",
      "repeat_vector_1 (None, 1) (None, 1, 1)\n",
      "lstm_5 (None, 1, 1) (None, 1, 1)\n",
      "time_distributed_1 (None, 1, 1) (None, 1, 4)\n"
     ]
    }
   ],
   "source": [
    "for l0 in model.layers:\n",
    "    print(l0.name , l0.input_shape, l0.output_shape)"
   ]
  },
  {
   "cell_type": "code",
   "execution_count": 45,
   "id": "ce105c0f",
   "metadata": {},
   "outputs": [
    {
     "name": "stdout",
     "output_type": "stream",
     "text": [
      "Model: \"sequential_4\"\n",
      "_________________________________________________________________\n",
      " Layer (type)                Output Shape              Param #   \n",
      "=================================================================\n",
      " reshape_2 (Reshape)         (None, 14, 13)            0         \n",
      "                                                                 \n",
      " lstm_4 (LSTM)               (None, 1)                 60        \n",
      "                                                                 \n",
      " repeat_vector_1 (RepeatVect  (None, 1, 1)             0         \n",
      " or)                                                             \n",
      "                                                                 \n",
      " lstm_5 (LSTM)               (None, 1, 1)              12        \n",
      "                                                                 \n",
      " time_distributed_1 (TimeDis  (None, 1, 4)             8         \n",
      " tributed)                                                       \n",
      "                                                                 \n",
      "=================================================================\n",
      "Total params: 80\n",
      "Trainable params: 80\n",
      "Non-trainable params: 0\n",
      "_________________________________________________________________\n"
     ]
    }
   ],
   "source": [
    "model.summary()"
   ]
  },
  {
   "cell_type": "code",
   "execution_count": 56,
   "id": "1e2287e4",
   "metadata": {},
   "outputs": [
    {
     "name": "stderr",
     "output_type": "stream",
     "text": [
      "C:\\Users\\FangG\\AppData\\Roaming\\Python\\Python38\\site-packages\\keras\\optimizers\\optimizer_v2\\adam.py:114: UserWarning: The `lr` argument is deprecated, use `learning_rate` instead.\n",
      "  super().__init__(name, **kwargs)\n"
     ]
    }
   ],
   "source": [
    "#def create_reg_ConvLSTM_model(input_dim, n_steps_in, n_features, n_steps_out, neurons=1, learn_rate=0.01, activation='sigmoid'):\n",
    "# reshape from [samples, timesteps] into [samples, timesteps, rows, columns, features(channels)]\n",
    "model = Sequential()\n",
    "model.add(Reshape(target_shape=(\n",
    "    n_steps_in, totalsets, n_features, 1), input_shape=(n_steps_in*n_features*totalsets,)))\n",
    "model.add(ConvLSTM2D(64, (1, 3), activation=activation,\n",
    "                     input_shape=(n_steps_in, totalsets, n_features, 1)))\n",
    "model.add(Flatten())\n",
    "model.add(RepeatVector(1))\n",
    "model.add(LSTM(neurons, activation=activation, return_sequences=True))\n",
    "model.add(TimeDistributed(Dense(100, activation=activation)))\n",
    "model.add(TimeDistributed(Dense(n_steps_out)))\n",
    "opt = Adam(lr=learn_rate)\n",
    "model.compile(loss='mse', optimizer=opt)"
   ]
  },
  {
   "cell_type": "code",
   "execution_count": 60,
   "id": "7c4882df",
   "metadata": {},
   "outputs": [
    {
     "name": "stdout",
     "output_type": "stream",
     "text": [
      "<method-wrapper '__repr__' of Reshape object at 0x0000024C44B28070> (None, 182) (None, 7, 2, 13, 1)\n",
      "<method-wrapper '__repr__' of ConvLSTM2D object at 0x0000024C44B724C0> (None, 7, 2, 13, 1) (None, 2, 11, 64)\n",
      "<method-wrapper '__repr__' of Flatten object at 0x0000024C44B8CE80> (None, 2, 11, 64) (None, 1408)\n",
      "<method-wrapper '__repr__' of RepeatVector object at 0x0000024C44B704C0> (None, 1408) (None, 1, 1408)\n",
      "<method-wrapper '__repr__' of LSTM object at 0x0000024C44B6AF70> (None, 1, 1408) (None, 1, 1)\n",
      "<method-wrapper '__repr__' of TimeDistributed object at 0x0000024C44B47130> (None, 1, 1) (None, 1, 100)\n",
      "<method-wrapper '__repr__' of TimeDistributed object at 0x0000024C44AA6A60> (None, 1, 100) (None, 1, 4)\n"
     ]
    }
   ],
   "source": [
    "for l0 in model.layers:\n",
    "    print(l0.__repr__ , l0.input_shape, l0.output_shape)"
   ]
  },
  {
   "cell_type": "code",
   "execution_count": 63,
   "id": "8d50081e",
   "metadata": {},
   "outputs": [],
   "source": [
    "from keras.layers import Dense, Dropout, Activation, LSTM\n",
    "from keras.layers import Convolution2D, MaxPooling2D, Flatten, Reshape\n",
    "from keras.models import Sequential\n",
    "from keras.layers import TimeDistributed"
   ]
  },
  {
   "cell_type": "code",
   "execution_count": 67,
   "id": "e5f4ae5e",
   "metadata": {},
   "outputs": [],
   "source": [
    "l = TimeDistributed(Convolution2D(16, (3, 3), padding='same'), input_shape=(None, 28, 28, 1))\n"
   ]
  },
  {
   "cell_type": "code",
   "execution_count": 70,
   "id": "1a54ce4d",
   "metadata": {},
   "outputs": [
    {
     "name": "stdout",
     "output_type": "stream",
     "text": [
      "Model: \"sequential_8\"\n",
      "_________________________________________________________________\n",
      " Layer (type)                Output Shape              Param #   \n",
      "=================================================================\n",
      " time_distributed_22 (TimeDi  (None, None, 28, 28, 16)  160      \n",
      " stributed)                                                      \n",
      "                                                                 \n",
      " time_distributed_23 (TimeDi  (None, None, 14, 14, 16)  0        \n",
      " stributed)                                                      \n",
      "                                                                 \n",
      " dropout_5 (Dropout)         (None, None, 14, 14, 16)  0         \n",
      "                                                                 \n",
      " time_distributed_24 (TimeDi  (None, None, 14, 14, 32)  4640     \n",
      " stributed)                                                      \n",
      "                                                                 \n",
      " time_distributed_25 (TimeDi  (None, None, 7, 7, 32)   0         \n",
      " stributed)                                                      \n",
      "                                                                 \n",
      " dropout_6 (Dropout)         (None, None, 7, 7, 32)    0         \n",
      "                                                                 \n",
      " time_distributed_26 (TimeDi  (None, None, 7, 7, 64)   18496     \n",
      " stributed)                                                      \n",
      "                                                                 \n",
      " time_distributed_27 (TimeDi  (None, None, 3, 3, 64)   0         \n",
      " stributed)                                                      \n",
      "                                                                 \n",
      " time_distributed_28 (TimeDi  (None, None, 576)        0         \n",
      " stributed)                                                      \n",
      "                                                                 \n",
      " lstm_11 (LSTM)              (None, None, 64)          164096    \n",
      "                                                                 \n",
      " lstm_12 (LSTM)              (None, None, 64)          33024     \n",
      "                                                                 \n",
      " dense_7 (Dense)             (None, None, 784)         50960     \n",
      "                                                                 \n",
      " reshape_6 (Reshape)         (None, None, 28, 28, 1)   0         \n",
      "                                                                 \n",
      "=================================================================\n",
      "Total params: 271,376\n",
      "Trainable params: 271,376\n",
      "Non-trainable params: 0\n",
      "_________________________________________________________________\n",
      "None\n"
     ]
    }
   ],
   "source": [
    "#I have 950 training video samples and 50 testing video samples. Each video sample has 10 frames and each frame has a shape of (n_row=28, n_col=28, n_channels=1). My inputs (x) and outputs (y) have same shapes.\n",
    "\"\"\"\n",
    "x_train shape: (950, 10, 28, 28,1),\n",
    "y_train shape: (950, 10, 28, 28,1),\n",
    "I want to give input video samples (x) as input to my model to predict output video samples (y).\n",
    "\"\"\"\n",
    "model = Sequential()\n",
    "model.add(TimeDistributed(Convolution2D(16, (3, 3), padding='same', activation='sigmoid'), input_shape=(None, 28, 28, 1))) \n",
    "model.add(TimeDistributed(MaxPooling2D(pool_size=(2, 2))))\n",
    "model.add(Dropout(0.2))\n",
    "model.add(TimeDistributed(Convolution2D(32, (3, 3), padding='same', activation='sigmoid'))) \n",
    "model.add(TimeDistributed(MaxPooling2D(pool_size=(2, 2))))\n",
    "model.add(Dropout(0.2))\n",
    "model.add(TimeDistributed(Convolution2D(64, (3, 3), padding='same', activation='sigmoid'))) \n",
    "model.add(TimeDistributed(MaxPooling2D(pool_size=(2, 2))))\n",
    "model.add(TimeDistributed(Flatten()))\n",
    "model.add(LSTM(64, return_sequences=True, stateful=False))\n",
    "model.add(LSTM(64, return_sequences=True, stateful=False, activation='sigmoid'))\n",
    "model.add(Dense(784, activation='sigmoid'))\n",
    "model.add(Reshape((-1, 28,28,1)))\n",
    "model.compile(loss='mean_squared_error', optimizer='rmsprop')\n",
    "print(model.summary())"
   ]
  },
  {
   "cell_type": "code",
   "execution_count": null,
   "id": "e1eda1cd",
   "metadata": {},
   "outputs": [],
   "source": [
    "# from keras.layers import Dense, Dropout, Activation, LSTM \n",
    "from tensorflow.keras.layers import BatchNormalization\n",
    "from keras.layers import Lambda, Convolution2D, MaxPooling2D, Flatten, Reshape, Conv2D\n",
    "from keras.layers.convolutional import Conv3D\n",
    "from keras.models import Sequential\n",
    "from keras.layers import TimeDistributed\n",
    "from keras.layers.pooling import GlobalAveragePooling1D\n",
    "from keras.optimizers import SGD\n",
    "from keras.utils import np_utils\n",
    "from keras.models import Model\n",
    "import keras.backend as K\n",
    "import pylab as plt"
   ]
  },
  {
   "cell_type": "code",
   "execution_count": 74,
   "id": "c25d47fb",
   "metadata": {},
   "outputs": [],
   "source": [
    "MaxPooling2D?"
   ]
  },
  {
   "cell_type": "code",
   "execution_count": 73,
   "id": "50cff0db",
   "metadata": {},
   "outputs": [
    {
     "name": "stdout",
     "output_type": "stream",
     "text": [
      "Model: \"sequential_9\"\n",
      "_________________________________________________________________\n",
      " Layer (type)                Output Shape              Param #   \n",
      "=================================================================\n",
      " time_distributed_29 (TimeDi  (None, 10, 28, 28, 16)   160       \n",
      " stributed)                                                      \n",
      "                                                                 \n",
      " time_distributed_30 (TimeDi  (None, 10, 28, 28, 16)   64        \n",
      " stributed)                                                      \n",
      "                                                                 \n",
      " time_distributed_31 (TimeDi  (None, 10, 26, 26, 32)   4640      \n",
      " stributed)                                                      \n",
      "                                                                 \n",
      " time_distributed_32 (TimeDi  (None, 10, 26, 26, 32)   128       \n",
      " stributed)                                                      \n",
      "                                                                 \n",
      " time_distributed_33 (TimeDi  (None, 10, 25, 25, 32)   0         \n",
      " stributed)                                                      \n",
      "                                                                 \n",
      " dropout_7 (Dropout)         (None, 10, 25, 25, 32)    0         \n",
      "                                                                 \n",
      " time_distributed_34 (TimeDi  (None, 10, 23, 23, 32)   9248      \n",
      " stributed)                                                      \n",
      "                                                                 \n",
      " time_distributed_35 (TimeDi  (None, 10, 23, 23, 32)   128       \n",
      " stributed)                                                      \n",
      "                                                                 \n",
      " time_distributed_36 (TimeDi  (None, 10, 21, 21, 32)   9248      \n",
      " stributed)                                                      \n",
      "                                                                 \n",
      " time_distributed_37 (TimeDi  (None, 10, 21, 21, 32)   128       \n",
      " stributed)                                                      \n",
      "                                                                 \n",
      " time_distributed_38 (TimeDi  (None, 10, 20, 20, 32)   0         \n",
      " stributed)                                                      \n",
      "                                                                 \n",
      " dropout_8 (Dropout)         (None, 10, 20, 20, 32)    0         \n",
      "                                                                 \n",
      " time_distributed_39 (TimeDi  (None, 10, 18, 18, 32)   9248      \n",
      " stributed)                                                      \n",
      "                                                                 \n",
      " time_distributed_40 (TimeDi  (None, 10, 18, 18, 32)   128       \n",
      " stributed)                                                      \n",
      "                                                                 \n",
      " time_distributed_41 (TimeDi  (None, 10, 16, 16, 32)   9248      \n",
      " stributed)                                                      \n",
      "                                                                 \n",
      " time_distributed_42 (TimeDi  (None, 10, 16, 16, 32)   128       \n",
      " stributed)                                                      \n",
      "                                                                 \n",
      " time_distributed_43 (TimeDi  (None, 10, 15, 15, 32)   0         \n",
      " stributed)                                                      \n",
      "                                                                 \n",
      " dropout_9 (Dropout)         (None, 10, 15, 15, 32)    0         \n",
      "                                                                 \n",
      " time_distributed_44 (TimeDi  (None, 10, 7200)         0         \n",
      " stributed)                                                      \n",
      "                                                                 \n",
      " dropout_10 (Dropout)        (None, 10, 7200)          0         \n",
      "                                                                 \n",
      " dense_8 (Dense)             (None, 10, 784)           5645584   \n",
      "                                                                 \n",
      " time_distributed_45 (TimeDi  (None, 10, 784)          3136      \n",
      " stributed)                                                      \n",
      "                                                                 \n",
      " lstm_13 (LSTM)              (None, 10, 512)           2656256   \n",
      "                                                                 \n",
      " lstm_14 (LSTM)              (None, 10, 512)           2099200   \n",
      "                                                                 \n",
      " dense_9 (Dense)             (None, 10, 784)           402192    \n",
      "                                                                 \n",
      " time_distributed_46 (TimeDi  (None, 10, 28, 28, 1)    0         \n",
      " stributed)                                                      \n",
      "                                                                 \n",
      "=================================================================\n",
      "Total params: 10,848,864\n",
      "Trainable params: 10,846,944\n",
      "Non-trainable params: 1,920\n",
      "_________________________________________________________________\n",
      "None\n"
     ]
    }
   ],
   "source": [
    "model = Sequential()\n",
    "model.add(TimeDistributed(Convolution2D(16, (3, 3), activation='relu', \n",
    "            kernel_initializer='glorot_uniform', padding='same'), input_shape=(10, 28, 28, 1))) \n",
    "model.add(TimeDistributed(BatchNormalization()))\n",
    "model.add(TimeDistributed(Convolution2D(32, (3,3), activation='relu')))\n",
    "model.add(TimeDistributed(BatchNormalization()))\n",
    "model.add(TimeDistributed(MaxPooling2D((2, 2), strides=(1, 1))))\n",
    "model.add(Dropout(0.3))\n",
    "\n",
    "model.add(TimeDistributed(Convolution2D(32, (3,3), activation='relu')))\n",
    "model.add(TimeDistributed(BatchNormalization()))\n",
    "model.add(TimeDistributed(Convolution2D(32, (3,3), activation='relu')))\n",
    "model.add(TimeDistributed(BatchNormalization()))\n",
    "model.add(TimeDistributed(MaxPooling2D((2, 2), strides=(1, 1))))\n",
    "model.add(Dropout(0.3))\n",
    "\n",
    "model.add(TimeDistributed(Convolution2D(32, (3,3), activation='relu')))\n",
    "model.add(TimeDistributed(BatchNormalization()))\n",
    "model.add(TimeDistributed(Convolution2D(32, (3,3), activation='relu')))\n",
    "model.add(TimeDistributed(BatchNormalization()))\n",
    "model.add(TimeDistributed(MaxPooling2D((2, 2), strides=(1, 1))))\n",
    "model.add(Dropout(0.3))\n",
    "\n",
    "# extract features and dropout \n",
    "model.add(TimeDistributed(Flatten()))\n",
    "model.add(Dropout(0.3))\n",
    "model.add(Dense(784, activation='linear'))\n",
    "model.add(TimeDistributed(BatchNormalization()))\n",
    "\n",
    "# input to LSTM\n",
    "model.add(LSTM(units=512, activation='tanh', recurrent_activation='hard_sigmoid', kernel_initializer='glorot_uniform', unit_forget_bias=True, dropout=0.3, recurrent_dropout=0.3, return_sequences=True))\n",
    "model.add(LSTM(units=512, activation='tanh', recurrent_activation='hard_sigmoid', kernel_initializer='glorot_uniform', unit_forget_bias=True, dropout=0.3, recurrent_dropout=0.3, return_sequences=True))\n",
    "\n",
    "# classifier with sigmoid activation for multilabel\n",
    "model.add(Dense(784, activation='linear'))\n",
    "# model.add(TimeDistributed(BatchNormalization()))\n",
    "model.add(TimeDistributed(Reshape((28,28,1))))\n",
    "model.compile(loss='mae', optimizer='rmsprop')\n",
    "print(model.summary())"
   ]
  },
  {
   "cell_type": "code",
   "execution_count": null,
   "id": "741b2e15",
   "metadata": {},
   "outputs": [],
   "source": [
    "model = Sequential()\n",
    "model.add(Reshape(target_shape=(\n",
    "    n_steps_in, totalsets, n_features, 1), input_shape=(n_steps_in*n_features*totalsets,)))\n",
    "model.add(ConvLSTM2D(64, (1, 3), activation=activation,\n",
    "                     input_shape=(n_steps_in, totalsets, n_features, 1)))\n",
    "model.add(Flatten())\n",
    "model.add(RepeatVector(1))\n",
    "model.add(LSTM(neurons, activation=activation, return_sequences=True))\n",
    "model.add(TimeDistributed(Dense(100, activation=activation)))\n",
    "model.add(TimeDistributed(Dense(n_steps_out)))\n",
    "opt = Adam(lr=learn_rate)\n",
    "model.compile(loss='mse', optimizer=opt)\n",
    "return model"
   ]
  },
  {
   "cell_type": "code",
   "execution_count": 82,
   "id": "7f0794f0",
   "metadata": {},
   "outputs": [
    {
     "name": "stdout",
     "output_type": "stream",
     "text": [
      "Model: \"sequential_16\"\n",
      "_________________________________________________________________\n",
      " Layer (type)                Output Shape              Param #   \n",
      "=================================================================\n",
      " reshape_14 (Reshape)        (None, 7, 2, 13, 1)       0         \n",
      "                                                                 \n",
      " conv_lstm2d_7 (ConvLSTM2D)  (None, 2, 11, 64)         50176     \n",
      "                                                                 \n",
      " flatten_11 (Flatten)        (None, 1408)              0         \n",
      "                                                                 \n",
      " repeat_vector_4 (RepeatVect  (None, 1, 1408)          0         \n",
      " or)                                                             \n",
      "                                                                 \n",
      " lstm_15 (LSTM)              (None, 1, 1)              5640      \n",
      "                                                                 \n",
      "=================================================================\n",
      "Total params: 55,816\n",
      "Trainable params: 55,816\n",
      "Non-trainable params: 0\n",
      "_________________________________________________________________\n"
     ]
    }
   ],
   "source": [
    "model = Sequential()\n",
    "model.add(Reshape(target_shape=(\n",
    "    n_steps_in, totalsets, n_features, 1), input_shape=(n_steps_in*n_features*totalsets,)))\n",
    "model.add(ConvLSTM2D(64, (1, 3), activation=activation,\n",
    "                     input_shape=(n_steps_in, totalsets, n_features, 1)))\n",
    "model.add(Flatten())\n",
    "model.add(RepeatVector(1))\n",
    "opt = Adam(lr=learn_rate)\n",
    "model.add(LSTM(neurons, activation=activation, return_sequences=True))\n",
    "model.compile(loss='mse', optimizer=opt)\n",
    "model.summary()"
   ]
  },
  {
   "cell_type": "code",
   "execution_count": null,
   "id": "45b15ba4",
   "metadata": {},
   "outputs": [],
   "source": [
    "model = KerasRegressor(build_fn=create_reg_endecodeLSTM_model, input_dim=input_dim, activation=activation,\n",
    "                                   epochs=epochs, batch_size=batch_size,  neurons=neurons, \n",
    "                       n_steps_in=int(n_steps_in), learn_rate=learn_rate, \n",
    "                       n_features=int(n_features), n_steps_out=int(n_steps_out), \n",
    "                       verbose=0)"
   ]
  }
 ],
 "metadata": {
  "kernelspec": {
   "display_name": "Python 3",
   "language": "python",
   "name": "python3"
  },
  "language_info": {
   "codemirror_mode": {
    "name": "ipython",
    "version": 3
   },
   "file_extension": ".py",
   "mimetype": "text/x-python",
   "name": "python",
   "nbconvert_exporter": "python",
   "pygments_lexer": "ipython3",
   "version": "3.8.8"
  }
 },
 "nbformat": 4,
 "nbformat_minor": 5
}
